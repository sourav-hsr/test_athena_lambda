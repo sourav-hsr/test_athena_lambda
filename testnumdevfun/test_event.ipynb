{
 "cells": [
  {
   "cell_type": "code",
   "execution_count": 1,
   "metadata": {},
   "outputs": [],
   "source": [
    "import pandas as pd\n",
    "import json\n",
    "import boto3"
   ]
  },
  {
   "cell_type": "code",
   "execution_count": 8,
   "metadata": {},
   "outputs": [],
   "source": [
    "def cleanTRI(stage, year, month, day, conversion=\"parquet\"):\n",
    "    cloudwatch_events = boto3.client('events')\n",
    "    event_payload = {\n",
    "        \"eventType\": \"cleanTRI\",\n",
    "        \"stage\": stage,\n",
    "        \"year\": year,\n",
    "        \"month\": month, \n",
    "        \"day\": day,\n",
    "        \"conversion\": conversion\n",
    "    }\n",
    "    full_event = {\n",
    "        \"Detail\": json.dumps(event_payload),\n",
    "        \"DetailType\": \"cleanTRI\",\n",
    "        \"Source\": \"cleanTRIEvent\",\n",
    "        \"EventBusName\": \"stg-hsr-event-bus\"\n",
    "    }\n",
    "    event_response = cloudwatch_events.put_events(Entries = [full_event])"
   ]
  },
  {
   "cell_type": "code",
   "execution_count": 13,
   "metadata": {},
   "outputs": [],
   "source": [
    "cleanTRI(\"01\", \"2020\", \"04\", \"14\")"
   ]
  },
  {
   "cell_type": "code",
   "execution_count": 17,
   "metadata": {},
   "outputs": [
    {
     "name": "stdout",
     "output_type": "stream",
     "text": [
      "['2022-05-03', '2022-05-04', '2022-05-05', '2022-05-06', '2022-05-07', '2022-05-08', '2022-05-09', '2022-05-10', '2022-05-11', '2022-05-12', '2022-05-13', '2022-05-14', '2022-05-15', '2022-05-16', '2022-05-17', '2022-05-18', '2022-05-19', '2022-05-20', '2022-05-21', '2022-05-22', '2022-05-23', '2022-05-24', '2022-05-25', '2022-05-26', '2022-05-27', '2022-05-28', '2022-05-29', '2022-05-30', '2022-05-31', '2022-06-01', '2022-06-02', '2022-06-03', '2022-06-04', '2022-06-05', '2022-06-06', '2022-06-07', '2022-06-08', '2022-06-09', '2022-06-10', '2022-06-11', '2022-06-12', '2022-06-13', '2022-06-14', '2022-06-15', '2022-06-16', '2022-06-17', '2022-06-18', '2022-06-19', '2022-06-20']\n"
     ]
    }
   ],
   "source": [
    "# List contents of covid bucket\n",
    "session = boto3.Session()\n",
    "transport_params = {\n",
    "    'client': session.client('s3')\n",
    "}\n",
    "s3 = session.resource('s3')\n",
    "\n",
    "my_bucket1 = s3.Bucket('stg-hsr-authoritative-data')\n",
    "olist = []\n",
    "rList = []\n",
    "for objects in my_bucket1.objects.filter(Prefix=\"covid_JHU/covid_JHU/covid_JHU/\"):\n",
    "    olist.append(objects.key)\n",
    "# print(olist)\n",
    "for x in olist:\n",
    "    rList.append(x.split(\"/\")[-1].split(\".\")[0])\n",
    "# List Contents in the stg 1 bucket\n",
    "my_bucket2 = s3.Bucket('stg-hsr-internal-data-products')\n",
    "olist2 = []\n",
    "rList2 = []\n",
    "for objects in my_bucket2.objects.filter(Prefix=\"processedAuthData/covidJHU/covidJHU/covidJHUStage1/\"):\n",
    "    olist2.append(objects.key)\n",
    "# print(olist2)\n",
    "for x in olist2:\n",
    "    rList2.append(x.split(\"/\")[-1].split(\".\")[0].replace(\"-stg1\", \"\"))\n",
    "# print(rList2)\n",
    "# Identify missing dates\n",
    "dates = [x for x in rList if x not in rList2]\n",
    "print(dates)"
   ]
  },
  {
   "cell_type": "code",
   "execution_count": 18,
   "metadata": {},
   "outputs": [],
   "source": [
    "for x in dates:\n",
    "    cleanTRI(\"01\", x.split(\"-\")[0], x.split(\"-\")[1], x.split(\"-\")[2])"
   ]
  },
  {
   "cell_type": "code",
   "execution_count": null,
   "metadata": {},
   "outputs": [],
   "source": [
    "# List contents of covid bucket for stg 1-2\n",
    "session = boto3.Session()\n",
    "transport_params = {\n",
    "    'client': session.client('s3')\n",
    "}\n",
    "s3 = session.resource('s3')\n",
    "\n",
    "my_bucket1 = s3.Bucket('stg-hsr-internal-data-products')\n",
    "olist = []\n",
    "rList = []\n",
    "for objects in my_bucket1.objects.filter(Prefix=\"processedAuthData/covidJHU/covidJHU/covidJHUStage1/\"):\n",
    "    olist.append(objects.key)\n",
    "# print(olist)\n",
    "for x in olist:\n",
    "    rList.append(x.split(\"/\")[-1].split(\".\")[0])\n",
    "# List Contents in the stg 1 bucket\n",
    "my_bucket2 = s3.Bucket('stg-hsr-internal-data-products')\n",
    "olist2 = []\n",
    "rList2 = []\n",
    "for objects in my_bucket2.objects.filter(Prefix=\"processedAuthData/covidJHU/covidJHU/covidJHUStage2/\"):\n",
    "    olist2.append(objects.key)\n",
    "# print(olist2)\n",
    "for x in olist2:\n",
    "    rList2.append(x.split(\"/\")[-1].split(\".\")[0].replace(\"-stg1\", \"\"))\n",
    "# print(rList2)\n",
    "# Identify missing dates\n",
    "dates = [x for x in rList if x not in rList2]\n",
    "print(dates)"
   ]
  }
 ],
 "metadata": {
  "interpreter": {
   "hash": "b9b2355a0ec218fde41afb46813293b7b77df3d91d5d56182b66f27e3aac2d63"
  },
  "kernelspec": {
   "display_name": "Python 3.7.9 64-bit",
   "language": "python",
   "name": "python3"
  },
  "language_info": {
   "codemirror_mode": {
    "name": "ipython",
    "version": 3
   },
   "file_extension": ".py",
   "mimetype": "text/x-python",
   "name": "python",
   "nbconvert_exporter": "python",
   "pygments_lexer": "ipython3",
   "version": "3.7.9"
  },
  "orig_nbformat": 4
 },
 "nbformat": 4,
 "nbformat_minor": 2
}
